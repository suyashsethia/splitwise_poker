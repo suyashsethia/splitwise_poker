{
 "cells": [
  {
   "cell_type": "code",
   "execution_count": 1,
   "metadata": {},
   "outputs": [
    {
     "name": "stdout",
     "output_type": "stream",
     "text": [
      "Cloning into 'splitwise_poker'...\n",
      "remote: Enumerating objects: 776, done.\u001b[K\n",
      "remote: Counting objects: 100% (390/390), done.\u001b[K\n",
      "remote: Compressing objects: 100% (137/137), done.\u001b[K\n",
      "remote: Total 776 (delta 280), reused 334 (delta 253), pack-reused 386\u001b[K\n",
      "Receiving objects: 100% (776/776), 471.10 KiB | 1.56 MiB/s, done.\n",
      "Resolving deltas: 100% (512/512), done.\n"
     ]
    }
   ],
   "source": [
    "# !git clone https://github.com/suyashsethia/splitwise_poker"
   ]
  },
  {
   "cell_type": "code",
   "execution_count": 2,
   "metadata": {},
   "outputs": [
    {
     "name": "stdout",
     "output_type": "stream",
     "text": [
      "Defaulting to user installation because normal site-packages is not writeable\n",
      "Collecting splitwise\n",
      "  Downloading splitwise-3.0.0-py3-none-any.whl (55 kB)\n",
      "\u001b[2K     \u001b[38;2;114;156;31m━━━━━━━━━━━━━━━━━━━━━━━━━━━━━━━━━━━━━━━\u001b[0m \u001b[32m55.9/55.9 KB\u001b[0m \u001b[31m299.3 kB/s\u001b[0m eta \u001b[36m0:00:00\u001b[0m1m267.3 kB/s\u001b[0m eta \u001b[36m0:00:01\u001b[0m\n",
      "\u001b[?25hRequirement already satisfied: requests<3,>=2.31.0 in /home/suyash/.local/lib/python3.10/site-packages (from splitwise) (2.31.0)\n",
      "Requirement already satisfied: requests-oauthlib<2,>=1.3.0 in /home/suyash/.local/lib/python3.10/site-packages (from splitwise) (1.3.1)\n",
      "Requirement already satisfied: idna<4,>=2.5 in /usr/lib/python3/dist-packages (from requests<3,>=2.31.0->splitwise) (3.3)\n",
      "Requirement already satisfied: charset-normalizer<4,>=2 in /home/suyash/.local/lib/python3.10/site-packages (from requests<3,>=2.31.0->splitwise) (3.2.0)\n",
      "Requirement already satisfied: urllib3<3,>=1.21.1 in /home/suyash/.local/lib/python3.10/site-packages (from requests<3,>=2.31.0->splitwise) (2.0.4)\n",
      "Requirement already satisfied: certifi>=2017.4.17 in /home/suyash/.local/lib/python3.10/site-packages (from requests<3,>=2.31.0->splitwise) (2022.12.7)\n",
      "Requirement already satisfied: oauthlib>=3.0.0 in /usr/lib/python3/dist-packages (from requests-oauthlib<2,>=1.3.0->splitwise) (3.2.0)\n",
      "Installing collected packages: splitwise\n",
      "Successfully installed splitwise-3.0.0\n"
     ]
    }
   ],
   "source": [
    "# !pip install splitwise "
   ]
  },
  {
   "cell_type": "code",
   "execution_count": 34,
   "metadata": {},
   "outputs": [],
   "source": [
    "from splitwise import Splitwise\n",
    "import requests\n",
    "from splitwise.expense import Expense\n",
    "from splitwise.user import ExpenseUser"
   ]
  },
  {
   "cell_type": "code",
   "execution_count": 10,
   "metadata": {},
   "outputs": [],
   "source": [
    "CONSUMER_KEY = \"svAohHa7taelufcUgAkMuZts0yIuJSVfLYFQ0VOR\"\n",
    "CONSUMER_SECRET = \"rxyCCG5kDqayflR3Vwe2bRn8L1tdFw54885ATAhA\"\n",
    "API_key = \"FY5snK06SmAYGjUyf9I72eljwYE1Oj851h643orE\"\n",
    "request_token_url = \"https://secure.splitwise.com/oauth/request_token\"\n",
    "access_token_url = \"https://secure.splitwise.com/oauth/access_token\"\n",
    "authorize_url = \"https://secure.splitwise.com/oauth/authorize\"\n"
   ]
  },
  {
   "cell_type": "code",
   "execution_count": 36,
   "metadata": {},
   "outputs": [
    {
     "name": "stdout",
     "output_type": "stream",
     "text": [
      "<splitwise.expense.Expense object at 0x72c2140efa90>\n"
     ]
    }
   ],
   "source": [
    "\n",
    "expennses_list_tuple = [(\"Vinkesh\" , \"Suyash\" , 284.5 , \"16/03/24 - 27/03/24 \")] #{Sender , Reciever , Amount , Date }\n",
    "\n",
    "def Splitwise(expennses_list_tuple ,group_name = \"UG3 Poker\"):#group name is UG3 Poker by default can also be Pomker (seniors waala )\n",
    "    s = Splitwise(CONSUMER_KEY, CONSUMER_SECRET, api_key=API_key)\n",
    "\n",
    "    group_id = None\n",
    "    groups = s.getGroups()\n",
    "    for group in groups:\n",
    "        if(group.name == group_name):\n",
    "            group_id = group.id    \n",
    "\n",
    "    for expennses in expennses_list_tuple:\n",
    "        #search for user in the group and get the user id if not found then show error message and continue to next\n",
    "        sender_id = None\n",
    "        reciever_id = None\n",
    "        for user in s.getGroup(group_id).members:\n",
    "            if(user.first_name == expennses[0]):\n",
    "                sender_id = user.id\n",
    "            if(user.first_name == expennses[1]):\n",
    "                reciever_id = user.id\n",
    "        if(sender_id == None):\n",
    "            print(\"Sender not found\")\n",
    "            continue\n",
    "        if(reciever_id == None):\n",
    "            print(\"Reciever not found\")\n",
    "            continue\n",
    "        #create the expense\n",
    "        expense = Expense()\n",
    "        expense.setCost(expennses[2])\n",
    "        expense.setDescription(expennses[3])\n",
    "        expense.setGroupId(group_id)\n",
    "        user1 = ExpenseUser()\n",
    "        user1.setId(reciever_id)\n",
    "        user1.setPaidShare(expennses[2])\n",
    "        user1.setOwedShare(0.0)\n",
    "\n",
    "        user2 = ExpenseUser()\n",
    "        user2.setId(sender_id)\n",
    "        user2.setPaidShare(0.0)\n",
    "        user2.setOwedShare(expennses[2])\n",
    "\n",
    "        expense.setUsers([user1, user2])\n",
    "        expense.setCurrencyCode(\"INR\")\n",
    "        nExpense,errors = s.createExpense(expense)\n",
    "        if(errors):\n",
    "            print(errors)\n",
    "        else:\n",
    "            print(nExpense)\n"
   ]
  },
  {
   "cell_type": "code",
   "execution_count": 37,
   "metadata": {},
   "outputs": [
    {
     "data": {
      "text/plain": [
       "<splitwise.Splitwise at 0x72c2049dd2a0>"
      ]
     },
     "execution_count": 37,
     "metadata": {},
     "output_type": "execute_result"
    }
   ],
   "source": [
    "Splitwise(expennses_list_tuple , \"UG3 Poker\")"
   ]
  },
  {
   "cell_type": "code",
   "execution_count": 11,
   "metadata": {},
   "outputs": [],
   "source": []
  },
  {
   "cell_type": "code",
   "execution_count": 12,
   "metadata": {},
   "outputs": [
    {
     "ename": "NameError",
     "evalue": "name 'Config' is not defined",
     "output_type": "error",
     "traceback": [
      "\u001b[0;31m---------------------------------------------------------------------------\u001b[0m",
      "\u001b[0;31mNameError\u001b[0m                                 Traceback (most recent call last)",
      "Cell \u001b[0;32mIn[12], line 1\u001b[0m\n\u001b[0;32m----> 1\u001b[0m sObj \u001b[38;5;241m=\u001b[39m Splitwise(\u001b[43mConfig\u001b[49m\u001b[38;5;241m.\u001b[39mconsumer_key,Config\u001b[38;5;241m.\u001b[39mconsumer_secret)\n\u001b[1;32m      2\u001b[0m sObj\u001b[38;5;241m.\u001b[39msetAccessToken(session[\u001b[38;5;124m'\u001b[39m\u001b[38;5;124maccess_token\u001b[39m\u001b[38;5;124m'\u001b[39m])\n\u001b[1;32m      3\u001b[0m sObj\u001b[38;5;241m.\u001b[39mgetFriends()\n",
      "\u001b[0;31mNameError\u001b[0m: name 'Config' is not defined"
     ]
    }
   ],
   "source": []
  },
  {
   "cell_type": "code",
   "execution_count": null,
   "metadata": {},
   "outputs": [],
   "source": []
  },
  {
   "cell_type": "code",
   "execution_count": null,
   "metadata": {},
   "outputs": [],
   "source": []
  },
  {
   "cell_type": "code",
   "execution_count": null,
   "metadata": {},
   "outputs": [],
   "source": []
  }
 ],
 "metadata": {
  "kernelspec": {
   "display_name": "Python 3",
   "language": "python",
   "name": "python3"
  },
  "language_info": {
   "codemirror_mode": {
    "name": "ipython",
    "version": 3
   },
   "file_extension": ".py",
   "mimetype": "text/x-python",
   "name": "python",
   "nbconvert_exporter": "python",
   "pygments_lexer": "ipython3",
   "version": "3.10.12"
  }
 },
 "nbformat": 4,
 "nbformat_minor": 2
}
